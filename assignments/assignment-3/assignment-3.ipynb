{
 "cells": [
  {
   "cell_type": "code",
   "execution_count": 1,
   "metadata": {},
   "outputs": [],
   "source": [
    "import cv2 as cv\n",
    "import matplotlib.pyplot as plt\n",
    "import numpy as np\n",
    "\n",
    "np.random.seed(0)\n",
    "\n",
    "plt.rcParams['text.usetex'] = True\n",
    "plt.rcParams['font.size'] = 12\n",
    "plt.figsize = (10, 20)\n",
    "\n",
    "# Helper Function\n",
    "def display_image(image, title='Press Escape to Quit'):\n",
    "    cv.imshow(title, image)\n",
    "    # Press escape to close the image\n",
    "    if cv.waitKey(0) & 0xff == 27:\n",
    "        cv.destroyAllWindows()"
   ]
  },
  {
   "cell_type": "markdown",
   "metadata": {},
   "source": [
    "1. On the following image, apply:\n",
    "    - Mean (3x3)\n",
    "    - Median (3x3)\n",
    "    - Gaussian (5x5) filter $\\sigma = 2$\n",
    "    - Sharpening filter (as defined in my slide no. 19 of Lecture 04)\n",
    "\n",
    "    Save the image after each type of filter along with original image (All 5 images on the one or two page) in a pdf file. Also provide details of the filters that you used in your answer.\n",
    "    ![](input/input.png)"
   ]
  },
  {
   "cell_type": "code",
   "execution_count": 16,
   "metadata": {},
   "outputs": [],
   "source": [
    "image = cv.imread(\"input/input.png\", cv.IMREAD_GRAYSCALE)"
   ]
  },
  {
   "cell_type": "code",
   "execution_count": 17,
   "metadata": {},
   "outputs": [],
   "source": [
    "def median_filter(image, kernel_size = 3):\n",
    "    height, width = image.shape\n",
    "    modified_image = np.zeros_like(image)\n",
    "    \n",
    "    for y in range(height):\n",
    "        for x in range(width):\n",
    "            neighborhood = image[y:y+kernel_size, x:x+kernel_size]\n",
    "            modified_image[y, x] = np.median(neighborhood)\n",
    "            \n",
    "    return modified_image\n",
    "\n",
    "def apply_kernel(image, kernel):\n",
    "  height, width = image.shape\n",
    "  kernel_height, kernel_width = kernel.shape\n",
    "  pad_h, pad_w = kernel_height // 2, kernel_width // 2\n",
    "  \n",
    "  # Pad the entire image at once using edge padding\n",
    "  padded_image = np.pad(image, ((pad_h, pad_h), (pad_w, pad_w)), mode='edge')\n",
    "  modified_image = np.zeros_like(image)\n",
    "  \n",
    "  for y in range(height):\n",
    "    for x in range(width):\n",
    "      neighborhood = padded_image[y:y+kernel_height, x:x+kernel_width]\n",
    "      modified_image[y, x] = np.sum(neighborhood * kernel)\n",
    "      \n",
    "  return modified_image\n",
    "\n",
    "def create_gaussian_blur_kernel(size, sigma):\n",
    "    half_block = size // 2\n",
    "    one_d_kernel = np.exp(-np.arange(-half_block, half_block+1)**2 / (2 * sigma**2))\n",
    "    two_d_kernel = np.outer(one_d_kernel, one_d_kernel)\n",
    "    normalized_gaussian_kernel = two_d_kernel / np.sum(two_d_kernel)\n",
    "    return normalized_gaussian_kernel\n",
    "gaussian_kernel = create_gaussian_blur_kernel(5, 2)"
   ]
  },
  {
   "cell_type": "code",
   "execution_count": 18,
   "metadata": {},
   "outputs": [],
   "source": [
    "mean_kernel = np.ones((3, 3)) / 9\n",
    "sharpening_kernel = np.diag([0, 2, 0]) - np.ones((3, 3)) / 9"
   ]
  },
  {
   "cell_type": "code",
   "execution_count": 19,
   "metadata": {},
   "outputs": [
    {
     "name": "stdout",
     "output_type": "stream",
     "text": [
      "Done\n"
     ]
    }
   ],
   "source": [
    "mean_image = apply_kernel(image, mean_kernel)\n",
    "median_image = median_filter(image, 3)\n",
    "gaussian_image = apply_kernel(image, gaussian_kernel)\n",
    "sharpened_image = apply_kernel(image, sharpening_kernel)\n",
    "cv.imwrite(\"output/singular/mean.png\", mean_image)\n",
    "cv.imwrite(\"output/singular/median.png\", median_image)\n",
    "cv.imwrite(\"output/singular/gaussian.png\", gaussian_image)\n",
    "cv.imwrite(\"output/singular/sharpened.png\", sharpened_image)\n",
    "print(\"Done\")"
   ]
  },
  {
   "cell_type": "code",
   "execution_count": 20,
   "metadata": {},
   "outputs": [
    {
     "name": "stdout",
     "output_type": "stream",
     "text": [
      "Done\n"
     ]
    }
   ],
   "source": [
    "# Incrementally adding the filters\n",
    "cv.imwrite(\"output/incremental/0.identity.png\", image)\n",
    "incremental_image = apply_kernel(image, mean_kernel)\n",
    "cv.imwrite(\"output/incremental/1.mean.png\", incremental_image)\n",
    "incremental_image = median_filter(incremental_image, 3)\n",
    "cv.imwrite(\"output/incremental/2.median_mean.png\", incremental_image)\n",
    "incremental_image = apply_kernel(incremental_image, gaussian_kernel)\n",
    "cv.imwrite(\"output/incremental/3.gaussian_median_mean.png\", incremental_image)\n",
    "incremental_image = apply_kernel(incremental_image, sharpening_kernel)\n",
    "cv.imwrite(\"output/incremental/4.sharpened_gaussian_median_mean.png\", incremental_image)\n",
    "print(\"Done\")"
   ]
  }
 ],
 "metadata": {
  "kernelspec": {
   "display_name": ".venv",
   "language": "python",
   "name": "python3"
  },
  "language_info": {
   "codemirror_mode": {
    "name": "ipython",
    "version": 3
   },
   "file_extension": ".py",
   "mimetype": "text/x-python",
   "name": "python",
   "nbconvert_exporter": "python",
   "pygments_lexer": "ipython3",
   "version": "3.13.0"
  }
 },
 "nbformat": 4,
 "nbformat_minor": 2
}
