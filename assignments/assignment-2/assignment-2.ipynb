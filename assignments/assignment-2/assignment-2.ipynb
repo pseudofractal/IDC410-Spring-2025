{
 "cells": [
  {
   "cell_type": "code",
   "execution_count": 53,
   "metadata": {},
   "outputs": [],
   "source": [
    "import cv2 as cv\n",
    "import matplotlib.pyplot as plt\n",
    "import numpy as np\n",
    "\n",
    "plt.rcParams['text.usetex'] = True\n",
    "plt.rcParams['font.size'] = 12\n",
    "plt.figsize = (10, 20)\n",
    "\n",
    "# Helper Function\n",
    "def display_image(image, title='Press Escape to Quit'):\n",
    "    cv.imshow(title, image)\n",
    "    # Press escape to close the image\n",
    "    if cv.waitKey(0) & 0xff == 27:\n",
    "        cv.destroyAllWindows()"
   ]
  },
  {
   "cell_type": "markdown",
   "metadata": {},
   "source": [
    "1. Use different thresholding algorithms on the following image to generate and save\n",
    "the binary image after thresholding.\n",
    "![](input/thresholding_input.png)"
   ]
  },
  {
   "cell_type": "code",
   "execution_count": 54,
   "metadata": {},
   "outputs": [],
   "source": [
    "threshold_input = cv.imread('input/thresholding_input.png', cv.IMREAD_GRAYSCALE)\n",
    "#display_image(threshold_input)"
   ]
  },
  {
   "cell_type": "code",
   "execution_count": 55,
   "metadata": {},
   "outputs": [],
   "source": [
    "\"\"\"\n",
    "Non Adaptive Thresholding\n",
    "\"\"\"\n",
    "\n",
    "def manual_threshold(image, threshold, *, display=False, path=\"output/thresholding/manual_thresholding.png\"):\n",
    "    modified_image = (image > threshold) * 255\n",
    "    if display:\n",
    "        display_image(modified_image)\n",
    "    cv.imwrite(path, modified_image)\n",
    "    return modified_image\n",
    "\n",
    "def mean_threshold(image, *, display=False, path=\"output/thresholding/mean_thresholding.png\"):\n",
    "    modified_image = (image > np.mean(image)) * 255\n",
    "    if display:\n",
    "        display_image(modified_image)\n",
    "    cv.imwrite(path, modified_image)\n",
    "    return modified_image\n",
    "\n",
    "def median_threshold(image, *, display=False, path=\"output/thresholding/median_thresholding.png\"):\n",
    "    modified_image = (image > np.median(image)) * 255\n",
    "    if display:\n",
    "        display_image(modified_image)\n",
    "    cv.imwrite(path, modified_image)\n",
    "    return modified_image\n",
    "\n",
    "def otsu_threshold(image, *, display=False, path=\"output/thresholding/otsu_thresholding.png\"):\n",
    "    hist, bin_edges = np.histogram(image, bins=256)\n",
    "    bin_centers = (bin_edges[:-1] + bin_edges[1:]) / 2\n",
    "    \n",
    "    weight1 = np.cumsum(hist)\n",
    "    weight2 = np.cumsum(hist[::-1])[::-1]\n",
    "    \n",
    "    mean1 = np.cumsum(hist * bin_centers) / weight1\n",
    "    mean2 = (np.cumsum((hist * bin_centers)[::-1]) / weight2[::-1])[::-1]\n",
    "    \n",
    "    variance = weight1[:-1] * weight2[1:] * (mean1[:-1] - mean2[1:]) ** 2\n",
    "    idx = np.argmax(variance)\n",
    "    threshold = bin_centers[idx]\n",
    "    \n",
    "    modified_image = (image > threshold) * 255\n",
    "    if display:\n",
    "        display_image(modified_image)\n",
    "    cv.imwrite(path, modified_image)\n",
    "    return modified_image"
   ]
  },
  {
   "cell_type": "code",
   "execution_count": 56,
   "metadata": {},
   "outputs": [],
   "source": [
    "\"\"\"\n",
    "Adaptive Thresholding\n",
    "\"\"\"\n",
    "\n",
    "def adaptive_mean_thresholding(image, shift=0, block_size=7, *, display=False, path=\"output/thresholding/adaptive_mean_thresholding.png\"):\n",
    "    height, width = image.shape\n",
    "    modified_image = np.zeros_like(image)\n",
    "    half_block = block_size // 2\n",
    "    \n",
    "    for y in range(height):\n",
    "        for x in range(width):\n",
    "            \n",
    "            y1 = max(0, y-half_block)\n",
    "            y2 = min(height, y+half_block)\n",
    "            x1 = max(0, x-half_block)\n",
    "            x2 = min(width, x+half_block)\n",
    "            \n",
    "            neighborhood = image[y1:y2, x1:x2]\n",
    "            threshold = np.mean(neighborhood) - shift\n",
    "            modified_image[y, x] = 255 if image[y, x] > threshold else 0\n",
    "            \n",
    "    if display:\n",
    "        display_image(modified_image)\n",
    "        \n",
    "    cv.imwrite(path, modified_image)\n",
    "    return modified_image\n",
    "    \n",
    "def adaptive_gaussian_thresholding(image, shift=0, block_size=7, *, display=False, path=\"output/thresholding/adaptive_gaussian_thresholding.png\"):\n",
    "    height, width = image.shape\n",
    "    modified_image = np.zeros_like(image)\n",
    "    half_block = block_size // 2\n",
    "    \n",
    "    x_values = np.arange(-half_block, half_block+1)\n",
    "    # Values I set: μ=0, σ=half_block/3\n",
    "    μ = 0\n",
    "    σ = half_block/3\n",
    "    gaussian_kernel = np.exp(- (x_values - μ) ** 2 / (2 * σ ** 2))\n",
    "    standard_gaussian_kernel = gaussian_kernel / np.sum(gaussian_kernel)\n",
    "    \n",
    "    for y in range(height):\n",
    "        for x in range(width):\n",
    "            y1 = max(0, y-half_block)\n",
    "            y2 = min(height, y+half_block)\n",
    "            x1 = max(0, x-half_block)\n",
    "            x2 = min(width, x+half_block)\n",
    "            \n",
    "            neighborhood = image[y1:y2, x1:x2]\n",
    "            \n",
    "            # Pad the neighborhood with zeros\n",
    "            pad_y = half_block - (y - y1)\n",
    "            pad_x = half_block - (x - x1)\n",
    "            padded_neighborhood = np.pad(neighborhood,\n",
    "                                         ((pad_y, block_size - neighborhood.shape[0] - pad_y),\n",
    "                                          (pad_x, block_size - neighborhood.shape[1] - pad_x)), \n",
    "                                            mode='edge'\n",
    "                                        )\n",
    "            \n",
    "            weighted_sum = np.sum(padded_neighborhood * np.outer(standard_gaussian_kernel, standard_gaussian_kernel))\n",
    "            threshold = weighted_sum - shift\n",
    "            modified_image[y, x] = 255 if image[y, x] > threshold else 0\n",
    "            \n",
    "    if display:\n",
    "        display_image(modified_image)\n",
    "        \n",
    "    cv.imwrite(path, modified_image)\n",
    "    return modified_image"
   ]
  },
  {
   "cell_type": "code",
   "execution_count": 57,
   "metadata": {},
   "outputs": [
    {
     "name": "stdout",
     "output_type": "stream",
     "text": [
      "Done\n"
     ]
    }
   ],
   "source": [
    "manual_threshold(threshold_input, 127)\n",
    "mean_threshold(threshold_input)\n",
    "median_threshold(threshold_input)\n",
    "otsu_threshold(threshold_input)\n",
    "print(\"Done\")\n"
   ]
  },
  {
   "cell_type": "code",
   "execution_count": 58,
   "metadata": {},
   "outputs": [
    {
     "name": "stdout",
     "output_type": "stream",
     "text": [
      "Done\n"
     ]
    }
   ],
   "source": [
    "adaptive_mean_thresholding(threshold_input, 4)\n",
    "adaptive_gaussian_thresholding(threshold_input, 4)\n",
    "print(\"Done\")"
   ]
  },
  {
   "cell_type": "markdown",
   "metadata": {},
   "source": [
    "2.Draw a fence of an arbitrary shape by hand (!) on a clean paper with white background\n",
    "and printed lines on it as explained in the class. Take a photo of this image. Write a\n",
    "program\\\n",
    "a) to read the photographed image and translate it to a gray scale image of size say,\n",
    "300 x 300 of this image.\\\n",
    "b) Use global thresholding algorithm to clean image to remove all lines on it.\\\n",
    "c) Save original and binary image by name fence_original.jpg and\n",
    "fence_threshold.jpg.\\\n",
    "d) Write a program to draw a filled circle of radius 5 randomly in this image\n",
    "(fence_threshold.jpg). Generate 50 such images. Store these images into two\n",
    "folders as explained in the class."
   ]
  },
  {
   "cell_type": "code",
   "execution_count": 59,
   "metadata": {},
   "outputs": [],
   "source": [
    "fence_image = cv.imread('input/fence.jpeg', cv.IMREAD_GRAYSCALE)\n",
    "fence_image = cv.resize(fence_image, (300, 300))\n",
    "thresholded_image = adaptive_gaussian_thresholding(fence_image, 20, path=\"output/fence/adaptive_gaussian_thresholding.png\")"
   ]
  },
  {
   "cell_type": "code",
   "execution_count": 62,
   "metadata": {},
   "outputs": [
    {
     "name": "stdout",
     "output_type": "stream",
     "text": [
      "Done\n"
     ]
    }
   ],
   "source": [
    "def draw_circle(image, radius, center_x, center_y):\n",
    "    image_copy = image.copy()\n",
    "    rr, cc = np.mgrid[:image_copy.shape[0], :image_copy.shape[1]]\n",
    "    circle = (rr - center_y)**2 + (cc - center_x)**2 <= radius**2\n",
    "    image_copy[circle] = 0\n",
    "    return image_copy\n",
    "\n",
    "cv.imwrite(\"output/fence/circles/circle_0.png\", thresholded_image)\n",
    "\n",
    "num_images = 50\n",
    "for i in range(num_images):\n",
    "    random_radius = np.random.randint(5, 20)\n",
    "    random_center_x = np.random.randint(random_radius + 1, thresholded_image.shape[1] - random_radius - 1)\n",
    "    random_center_y = np.random.randint(random_radius + 1, thresholded_image.shape[0] - random_radius - 1)\n",
    "    modified_image = draw_circle(thresholded_image, random_radius, random_center_x, random_center_y)\n",
    "    cv.imwrite(f\"output/fence/circles/circle_{i + 1}.png\", modified_image)\n",
    "print(\"Done\")"
   ]
  },
  {
   "cell_type": "markdown",
   "metadata": {},
   "source": [
    "3. Write a histogram equalization code to improve the contrast of the following grayscale image.\\\n",
    "A)  Show and save the input and output (after histogram equalization) grayscale images.\\\n",
    "B)  Show and save the intensity histogram of the input and output image.\\\n",
    "C)  Show and save the differential probability histogram of the input and output image.\\\n",
    "D)  Superimpose the cumulative probability histogram on c; the differential probability histogram of the input and output image.\\\n",
    "E)  Obtain and store the mean intensity of the input and output image"
   ]
  },
  {
   "cell_type": "code",
   "execution_count": 77,
   "metadata": {},
   "outputs": [],
   "source": [
    "brain_image = cv.imread(\"input/brain.png\", cv.IMREAD_GRAYSCALE)"
   ]
  },
  {
   "cell_type": "code",
   "execution_count": 90,
   "metadata": {},
   "outputs": [],
   "source": [
    "def histogram(image, name=\"\"):\n",
    "    histogram = np.zeros(256)\n",
    "    for pixel_intensity in image.flatten():\n",
    "        histogram[pixel_intensity] += 1\n",
    "\n",
    "    if name:\n",
    "        plt.figure()\n",
    "        plt.bar(np.arange(256), histogram)\n",
    "        plt.xlabel(r'Pixel Intensity $\\longrightarrow$')\n",
    "        plt.ylabel(r'Frequency $\\longrightarrow$')\n",
    "        plt.title(f'Histogram of {name} image')\n",
    "        plt.savefig(f'output/brain/{name}_histogram.png')\n",
    "        plt.close()\n",
    "    \n",
    "    return histogram\n",
    "\n",
    "def differential_histogram(image, name=\"\"):\n",
    "    hist = histogram(image)\n",
    "    differential_histogram = hist / image.size\n",
    "\n",
    "    if name:\n",
    "        plt.figure()\n",
    "        plt.bar(np.arange(256), differential_histogram)\n",
    "        plt.xlabel(r'Pixel Intensity $\\longrightarrow$')\n",
    "        plt.ylabel(r'Probability $\\longrightarrow$')\n",
    "        plt.title(f'Differential Histogram of {name} image')\n",
    "        plt.savefig(f'output/brain/{name}_differential_histogram.png')\n",
    "        plt.close()\n",
    "    \n",
    "    return differential_histogram\n",
    "\n",
    "def cumulative_histogram(image, name=\"\"):\n",
    "    diff_hist = differential_histogram(image)\n",
    "    cumulative_histogram = np.cumsum(diff_hist)\n",
    "\n",
    "    if name:\n",
    "        plt.figure()\n",
    "        plt.bar(np.arange(256), cumulative_histogram)\n",
    "        plt.xlabel(r'Pixel Intensity $\\longrightarrow$')\n",
    "        plt.ylabel(r'Probability $\\longrightarrow$')\n",
    "        plt.title(f'Cumulative Histogram of {name} image')\n",
    "        plt.savefig(f'output/brain/{name}_cumulative_histogram.png')\n",
    "        plt.close()\n",
    "    \n",
    "    return cumulative_histogram\n",
    "\n",
    "def histogram_equalization(image, name=\"\"):\n",
    "    cum_hist = cumulative_histogram(image)\n",
    "    equalized_values = np.interp(image.flatten(), np.arange(256), cum_hist * 255)\n",
    "    modified_image = equalized_values.reshape(image.shape)\n",
    "\n",
    "    if name:\n",
    "        cv.imwrite(f'output/brain/{name}_histogram_equalized.png', modified_image)\n",
    "    \n",
    "    return modified_image.astype(np.uint8)"
   ]
  },
  {
   "cell_type": "code",
   "execution_count": 91,
   "metadata": {},
   "outputs": [],
   "source": [
    "cv.imwrite('output/brain/input_image.png', brain_image)\n",
    "\n",
    "equalized_image = histogram_equalization(brain_image)\n",
    "cv.imwrite('output/brain/output_image.png', equalized_image)\n",
    "\n",
    "histogram(brain_image, name=\"input\")\n",
    "histogram(equalized_image, name=\"output\")\n",
    "\n",
    "diff_hist_in = differential_histogram(brain_image, name=\"input\")\n",
    "diff_hist_out = differential_histogram(equalized_image, name=\"output\")\n",
    "\n",
    "cum_hist_in = cumulative_histogram(brain_image)\n",
    "cum_hist_out = cumulative_histogram(equalized_image)"
   ]
  },
  {
   "cell_type": "code",
   "execution_count": 92,
   "metadata": {},
   "outputs": [
    {
     "name": "stdout",
     "output_type": "stream",
     "text": [
      "Mean Intensity of Input Image: 76.72112436809559\n",
      "Mean Intensity of Output Image: 129.4994793514872\n"
     ]
    }
   ],
   "source": [
    "plt.figure()\n",
    "plt.bar(np.arange(256), diff_hist_in, label=\"Differential\")\n",
    "plt.plot(np.arange(256), cum_hist_in, color='red', label=\"Cumulative\")\n",
    "plt.xlabel(r'Pixel Intensity $\\longrightarrow$')\n",
    "plt.ylabel(r'Probability $\\longrightarrow$')\n",
    "plt.title('Input Image: Combined Histograms')\n",
    "plt.legend()\n",
    "plt.savefig('output/brain/input_combined_histograms.png')\n",
    "plt.close()\n",
    "\n",
    "plt.figure()\n",
    "plt.bar(np.arange(256), diff_hist_out, label=\"Differential\")\n",
    "plt.plot(np.arange(256), cum_hist_out, color='red', label=\"Cumulative\")\n",
    "plt.xlabel(r'Pixel Intensity $\\longrightarrow$')\n",
    "plt.ylabel(r'Probability $\\longrightarrow$')\n",
    "plt.title('Output Image: Combined Histograms')\n",
    "plt.legend()\n",
    "plt.savefig('output/brain/output_combined_histograms.png')\n",
    "plt.close()\n",
    "\n",
    "mean_intensity_input = np.mean(brain_image)\n",
    "mean_intensity_output = np.mean(equalized_image)\n",
    "print(f\"Mean Intensity of Input Image: {mean_intensity_input}\")\n",
    "print(f\"Mean Intensity of Output Image: {mean_intensity_output}\")"
   ]
  }
 ],
 "metadata": {
  "kernelspec": {
   "display_name": ".venv",
   "language": "python",
   "name": "python3"
  },
  "language_info": {
   "codemirror_mode": {
    "name": "ipython",
    "version": 3
   },
   "file_extension": ".py",
   "mimetype": "text/x-python",
   "name": "python",
   "nbconvert_exporter": "python",
   "pygments_lexer": "ipython3",
   "version": "3.13.0"
  }
 },
 "nbformat": 4,
 "nbformat_minor": 2
}
