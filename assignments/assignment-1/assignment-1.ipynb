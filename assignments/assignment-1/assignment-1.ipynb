{
 "cells": [
  {
   "cell_type": "code",
   "execution_count": 19,
   "metadata": {},
   "outputs": [],
   "source": [
    "import cv2 as cv\n",
    "import matplotlib.pyplot as plt\n",
    "import numpy as np\n",
    "\n",
    "plt.rcParams['text.usetex'] = True\n",
    "plt.rcParams['font.size'] = 12\n",
    "plt.figsize = (10, 20)\n",
    "\n",
    "# Helper Function\n",
    "def display_image(image, title='Image'):\n",
    "    cv.imshow(title, image)\n",
    "    # Press escape to close the image\n",
    "    if cv.waitKey(0) & 0xff == 27:\n",
    "        cv.destroyAllWindows()"
   ]
  },
  {
   "cell_type": "markdown",
   "metadata": {},
   "source": [
    "1. Take an image of something you like and convert it to greyscale.\n",
    "• Extract the intensity array of the image.\n",
    "• Plot the histogram of the intensity values.\n",
    "This histogram will show how the different intensity levels are distributed in the\n",
    "image. Additionally, verify that the sum of all histogram frequencies equals the total\n",
    "number of pixels in the image, just for fun!"
   ]
  },
  {
   "cell_type": "code",
   "execution_count": 20,
   "metadata": {},
   "outputs": [
    {
     "data": {
      "image/png": "[encoded data removed]",
      "text/plain": [
       "<Figure size 640x480 with 1 Axes>"
      ]
     },
     "metadata": {},
     "output_type": "display_data"
    }
   ],
   "source": [
    "img = cv.imread(\"/home/pseudofractal/.config/wallpaper.jpg\")\n",
    "cv.imwrite(\"./original-image.jpg\", img)\n",
    "img = cv.cvtColor(img, cv.COLOR_BGR2GRAY)\n",
    "cv.imwrite(\"./grayscale-image.jpg\", img)\n",
    "\n",
    "frequencies = np.zeros(256)\n",
    "for i in range(img.shape[0]):\n",
    "    for j in range(img.shape[1]):\n",
    "        frequencies[img[i, j]] += 1\n",
    "        \n",
    "plt.title(\"Intensity Histogram\")\n",
    "plt.xlabel(r\"Intensity Value $\\longrightarrow$\")\n",
    "plt.ylabel(r\"Frequency $\\longrightarrow$\")\n",
    "plt.bar(np.arange(256), frequencies)\n",
    "plt.savefig(\"./intensity-histogram.png\", dpi=1200)\n",
    "plt.show()\n"
   ]
  },
  {
   "cell_type": "markdown",
   "metadata": {},
   "source": [
    "2. Take a image, we can represent it as a npixel × npixel matrix as follows, with each\n",
    "value representating intensity of the pixel.\n",
    "$$A = \\begin{bmatrix}\n",
    "a_{11} & a_{12} & \\cdots & a_{1n} \\\\\n",
    "a_{21} & a_{22} & \\cdots & a_{2n} \\\\\n",
    "\\vdots & \\vdots & \\ddots & \\vdots \\\\\n",
    "a_{n1} & a_{n2} & \\cdots & a_{nn}\n",
    "\\end{bmatrix}$$\n",
    "\n",
    "Select a $(n \\times n)$ region of thhe matrix and modify it, like hange its intensity, color,\n",
    "and see how it looks now. This will help to understand the Intensity array and also\n",
    "manuplate it?"
   ]
  },
  {
   "cell_type": "code",
   "execution_count": 21,
   "metadata": {},
   "outputs": [
    {
     "data": {
      "text/plain": [
       "True"
      ]
     },
     "execution_count": 21,
     "metadata": {},
     "output_type": "execute_result"
    }
   ],
   "source": [
    "upper_left_corner = 100, 100\n",
    "bottom_right_corner = 200, 200\n",
    "intensity_to_set = 255\n",
    "img[\n",
    "    upper_left_corner[0]:bottom_right_corner[0],\n",
    "    upper_left_corner[1]:bottom_right_corner[1]\n",
    "] = intensity_to_set\n",
    "cv.imwrite(\"./grayscale-image-with-mask.jpg\", img)"
   ]
  }
 ],
 "metadata": {
  "kernelspec": {
   "display_name": ".venv",
   "language": "python",
   "name": "python3"
  },
  "language_info": {
   "codemirror_mode": {
    "name": "ipython",
    "version": 3
   },
   "file_extension": ".py",
   "mimetype": "text/x-python",
   "name": "python",
   "nbconvert_exporter": "python",
   "pygments_lexer": "ipython3",
   "version": "3.13.0"
  }
 },
 "nbformat": 4,
 "nbformat_minor": 2
}
